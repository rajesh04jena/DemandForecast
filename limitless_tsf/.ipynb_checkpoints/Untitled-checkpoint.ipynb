{
 "cells": [
  {
   "cell_type": "code",
   "execution_count": 5,
   "id": "17f156a4-f2b3-4f40-bd9f-313aeefe9bac",
   "metadata": {},
   "outputs": [
    {
     "name": "stdout",
     "output_type": "stream",
     "text": [
      "Files and directories in ' /Users/rajesh04jena/Documents/github_open_source_projects/DemandForecast/limitless_tsf ' :\n",
      "['forecast', '.DS_Store', 'Untitled.ipynb', 'predict.py', 'dependencies', '__init__.py', '.ipynb_checkpoints', 'data']\n"
     ]
    }
   ],
   "source": [
    "# importing os module  \n",
    "import os \n",
    "   \n",
    "# Get the path of current working directory \n",
    "path = os.getcwd() \n",
    "   \n",
    "# Get the list of all files and directories \n",
    "dir_list = os.listdir(path) \n",
    "   \n",
    "print(\"Files and directories in '\", path, \"' :\")  \n",
    "# print the list \n",
    "print(dir_list)"
   ]
  },
  {
   "cell_type": "code",
   "execution_count": 6,
   "id": "9c005b53-2746-48ea-b821-ec95a72a7a9c",
   "metadata": {},
   "outputs": [
    {
     "name": "stdout",
     "output_type": "stream",
     "text": [
      "/Users/rajesh04jena/Documents/github_open_source_projects/DemandForecast/limitless_tsf\n"
     ]
    }
   ],
   "source": [
    "print( path)  "
   ]
  },
  {
   "cell_type": "code",
   "execution_count": 8,
   "id": "afeb29f0-d03d-499a-84de-137387bbb7ed",
   "metadata": {},
   "outputs": [],
   "source": [
    "os.chdir('/Users/rajesh04jena/Documents/github_open_source_projects/DemandForecast/')"
   ]
  },
  {
   "cell_type": "code",
   "execution_count": 9,
   "id": "c0ec42d9-d891-4c81-8937-89141a70e66c",
   "metadata": {},
   "outputs": [],
   "source": [
    "import limitless_tsf as lt"
   ]
  },
  {
   "cell_type": "code",
   "execution_count": null,
   "id": "ae6a4727-ea54-4675-b35e-6d9a3310fc33",
   "metadata": {},
   "outputs": [],
   "source": [
    "data = pd.DataFrame(\n",
    "    {\n",
    "        \"date\": pd.date_range(start=\"2023-01-01\", periods=30, freq=\"D\"),\n",
    "        \"feature1\": np.random.randint(1, 100, 30),\n",
    "        \"feature2\": np.random.choice([\"A\", \"B\", \"C\"], 30),\n",
    "        \"feature3\": np.random.randn(30) * 10,\n",
    "        \"feature4\": np.random.uniform(5, 50, 30),\n",
    "        \"target\": np.random.randint(10, 200, 30),\n",
    "    }\n",
    ")\n",
    "\n",
    "models_to_use = [\n",
    "    \"linear_regression_forecast\",\n",
    "    \"lasso_regression_forecast\",\n",
    "    \"ridge_regression_forecast\",\n",
    "    \"xgboost_regression_forecast\",\n",
    "    \"lightgbm_regression_forecast\",\n",
    "    \"random_forest_regression_forecast\",\n",
    "    \"catboost_regression_forecast\",\n",
    "    \"seasonal_naive_forecast\",\n",
    "    \"auto_arima_forecast\",\n",
    "    \"simple_exponential_smoothing\",\n",
    "    \"double_exponential_smoothing\",\n",
    "    \"holt_winters_forecast\",\n",
    "    \"croston_tsb_forecast\",\n",
    "    \"tbats_forecast\",\n",
    "    \"prophet_forecast\",\n",
    "]\n",
    "\n",
    "n_periods = 10  # Number of future time steps to forecast\n",
    "backtest_periods = 5  # Number of backward time steps to forecast\n",
    "    "
   ]
  }
 ],
 "metadata": {
  "kernelspec": {
   "display_name": "Python 3 (ipykernel)",
   "language": "python",
   "name": "python3"
  },
  "language_info": {
   "codemirror_mode": {
    "name": "ipython",
    "version": 3
   },
   "file_extension": ".py",
   "mimetype": "text/x-python",
   "name": "python",
   "nbconvert_exporter": "python",
   "pygments_lexer": "ipython3",
   "version": "3.9.21"
  }
 },
 "nbformat": 4,
 "nbformat_minor": 5
}
